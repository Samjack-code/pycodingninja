{
 "cells": [
  {
   "cell_type": "markdown",
   "id": "f1da747c",
   "metadata": {},
   "source": [
    "# For loop"
   ]
  },
  {
   "cell_type": "code",
   "execution_count": 1,
   "id": "9f9fa3aa",
   "metadata": {},
   "outputs": [
    {
     "name": "stdout",
     "output_type": "stream",
     "text": [
      "a\n",
      "b\n",
      "c\n",
      "d\n"
     ]
    }
   ],
   "source": [
    "s=\"abcd\"\n",
    "for c in s:\n",
    "    print(c)"
   ]
  },
  {
   "cell_type": "code",
   "execution_count": 2,
   "id": "c3440d8a",
   "metadata": {},
   "outputs": [
    {
     "name": "stdout",
     "output_type": "stream",
     "text": [
      "4\n",
      "0\n",
      "1\n",
      "2\n",
      "3\n"
     ]
    }
   ],
   "source": [
    "#print num from 1 to 0\n",
    "n=int(input())\n",
    "for i in range( 0,n,1):\n",
    "    print(i)"
   ]
  },
  {
   "cell_type": "code",
   "execution_count": 1,
   "id": "e40fafd9",
   "metadata": {},
   "outputs": [
    {
     "name": "stdout",
     "output_type": "stream",
     "text": [
      "4\n",
      "4\n",
      "3\n",
      "2\n",
      "1\n"
     ]
    }
   ],
   "source": [
    "#printing numbers from n to 1\n",
    "n=int(input())\n",
    "for i in range (n,0,-1):\n",
    "    print(i)"
   ]
  },
  {
   "cell_type": "code",
   "execution_count": 3,
   "id": "69a2c097",
   "metadata": {},
   "outputs": [
    {
     "name": "stdout",
     "output_type": "stream",
     "text": [
      "Enter the starting value1\n",
      "Enter the last value of the range20\n",
      "3\n",
      "6\n",
      "9\n",
      "12\n",
      "15\n",
      "18\n"
     ]
    }
   ],
   "source": [
    "#printing numbers multiple of 3 starting from a till b ..all numbers residing betwee them which are mulltiples of 3 should be printed\n",
    "a=int(input(\"Enter the starting value\"))\n",
    "b=int(input(\"Enter the last value of the range\"))\n",
    "\n",
    "for i in range (a,b+1):   #since we want to go till b thus taking b+1 to reach b completely\n",
    "    if(i%3==0):  #since we want to print only multiples of three thus by this we willl print only that numbers which are divisble by 3\n",
    "        print(i) \n",
    "    \n",
    "    \n",
    "#But the problem with this solution is that this loop is executing 10 times is our range is 10 and will execute 1000 times if our range will be 1000 \n",
    "#thus to make it feasible there's a solution below code"
   ]
  },
  {
   "cell_type": "code",
   "execution_count": 4,
   "id": "58789c5a",
   "metadata": {},
   "outputs": [
    {
     "name": "stdout",
     "output_type": "stream",
     "text": [
      "2\n",
      "19\n",
      "3\n",
      "6\n",
      "9\n",
      "12\n",
      "15\n",
      "18\n"
     ]
    }
   ],
   "source": [
    "a=int(input(\"Please enter the starting value of the desired range\"))  #in dis solution we will firstly tske the first number starting from a side which is divisible by 3 and then \n",
    "b=int(input(\"Enter the ending value of the desired range\"))  # we will print further in the range with the stride/jumping value 3 to get the numbers\n",
    "if a%3==0:\n",
    "    s=a\n",
    "elif a%3==1:\n",
    "    s=a+2  #since any number didived by 3 will remainder as zero,1 or 2 nothing else thus we will add 2 if we get remainder 1 to make the number od\n",
    "else:\n",
    "    s=a+1   #if the remainder after division by 3 come 2 then we will basically add 1 so that the number we want will be only one step further\n",
    "for i in range(s,b+1,3):\n",
    "    print(i)"
   ]
  },
  {
   "cell_type": "code",
   "execution_count": 8,
   "id": "6c8dcdc3",
   "metadata": {},
   "outputs": [
    {
     "name": "stdout",
     "output_type": "stream",
     "text": [
      "Enter the number7\n",
      "The number is prime\n"
     ]
    }
   ],
   "source": [
    "#checking the number is prime or not with for loop\n",
    "n=int(input(\"Enter the number\"))\n",
    "flag=False                                               #Important note that..in the usage of for loop we dont need to increment the values \n",
    "for d in range (2,n-1):                                #such as we used to do in the while loops ..the for loop takes care of this \n",
    "    if (n%d==0):\n",
    "        flag=True               #here we took d which goes from a to n-1 and to see thaht if d can divide n \n",
    "        #in simple language we ran d from 2 to n-1 thus to see whether d is divisible or not and then used the flag technique we used n while loops to check number is prime or not \n",
    "if flag:\n",
    "    print(\"Number is not prime\")\n",
    "else:\n",
    "    print(\"The number is prime\")"
   ]
  },
  {
   "cell_type": "code",
   "execution_count": 1,
   "id": "6aacac0e",
   "metadata": {},
   "outputs": [
    {
     "name": "stdout",
     "output_type": "stream",
     "text": [
      "4\n",
      "      1\n",
      "    23\n",
      "  345\n",
      "4567\n"
     ]
    }
   ],
   "source": [
    "n=int(input())\n",
    "for i in range(1,n+1):\n",
    "    for s in range (n-i):         #for each row we need to first print spaces tus we are taking the range of s i.e spaces\n",
    "        print(\" \",end=\" \")\n",
    "    for j in range(i,2*i,1):\n",
    "        print(j,end= \"\")\n",
    "    for j in range (2*1-2,i-1,-1):\n",
    "        print(j,end=\" \")\n",
    "    print()\n",
    "    "
   ]
  },
  {
   "cell_type": "markdown",
   "id": "9aa3efce",
   "metadata": {},
   "source": [
    "Create a list "
   ]
  },
  {
   "cell_type": "code",
   "execution_count": 1,
   "id": "6e5e28c4",
   "metadata": {},
   "outputs": [
    {
     "data": {
      "text/plain": [
       "list"
      ]
     },
     "execution_count": 1,
     "metadata": {},
     "output_type": "execute_result"
    }
   ],
   "source": [
    "sidd_list=[]\n",
    "sidd_list=[1,2,3]\n",
    "type(sidd_list)"
   ]
  },
  {
   "cell_type": "markdown",
   "id": "7401aaf2",
   "metadata": {},
   "source": [
    "# Functions and default parameters"
   ]
  },
  {
   "cell_type": "markdown",
   "id": "fbf2c656",
   "metadata": {},
   "source": [
    "all non default arguments should be declared first"
   ]
  },
  {
   "cell_type": "code",
   "execution_count": 2,
   "id": "25e8fcfb",
   "metadata": {},
   "outputs": [
    {
     "ename": "SyntaxError",
     "evalue": "non-default argument follows default argument (<ipython-input-2-8969d93539ff>, line 2)",
     "output_type": "error",
     "traceback": [
      "\u001b[1;36m  File \u001b[1;32m\"<ipython-input-2-8969d93539ff>\"\u001b[1;36m, line \u001b[1;32m2\u001b[0m\n\u001b[1;33m    def f(a=0,b,c):                 #Note that here .. an error occurred becuase..in pythin we cant declare the default arguments first.\u001b[0m\n\u001b[1;37m          ^\u001b[0m\n\u001b[1;31mSyntaxError\u001b[0m\u001b[1;31m:\u001b[0m non-default argument follows default argument\n"
     ]
    }
   ],
   "source": [
    "#here we will see the default arguments and its types\n",
    "def f(a=0,b,c):                 #Note that here .. an error occurred becuase..in pythin we cant declare the default arguments first.\n",
    "    return a+b+c   #we need to declare all the non-default arguments firstly and then the default arguments\n",
    "f(1,2)"
   ]
  },
  {
   "cell_type": "code",
   "execution_count": 5,
   "id": "6c97832f",
   "metadata": {},
   "outputs": [
    {
     "name": "stdout",
     "output_type": "stream",
     "text": [
      "14\n",
      "7\n",
      "10\n"
     ]
    },
    {
     "data": {
      "text/plain": [
       "'no we here often get confused in the 3rd print that the 2 wil be assigned to which value...so the assigning \\ntakes place respectively..the first argument we are passing whilce calling the function will be assigned to the first argument defined in the function \\nand this goes in order'"
      ]
     },
     "execution_count": 5,
     "metadata": {},
     "output_type": "execute_result"
    }
   ],
   "source": [
    " def f1(a,b,c=2,d=0):\n",
    "        return a+b+c+d\n",
    "print(f1(2,3,4,5)) #thus here c will take the value 4 and the d will take 5 because we have declared them \n",
    "print(f1(2,3)) #here a willl be 2 b will be 3 and c will be defaultly 2 and the d will be 0\n",
    "print(f1(2,3,5))#here we mixed up thus a will be 2 b will be 3 and c will be 5 but we didnt declared any for d thus it wil defaultly be 0 \n",
    "\"\"\"no we here often get confused in the 3rd print that the 2 wil be assigned to which value...so the assigning \n",
    "takes place respectively..the first argument we are passing whilce calling the function will be assigned to the first argument defined in the function \n",
    "and this goes in order\"\"\"\n",
    "\n",
    "\n",
    "\n",
    "\n",
    "\n",
    "#so now here we will see is there any way to declare a,b and d ...and we c to be default\n"
   ]
  },
  {
   "cell_type": "markdown",
   "id": "edafe0dc",
   "metadata": {},
   "source": [
    "Line Separated input"
   ]
  },
  {
   "cell_type": "code",
   "execution_count": 2,
   "id": "8df5db22",
   "metadata": {},
   "outputs": [
    {
     "name": "stdout",
     "output_type": "stream",
     "text": [
      "Enter the number of elements you want to enter3\n",
      "Enter the elements you want to enter:- 45\n",
      "Enter the elements you want to enter:- 56\n",
      "Enter the elements you want to enter:- 89\n"
     ]
    },
    {
     "data": {
      "text/plain": [
       "[45, 56, 89]"
      ]
     },
     "execution_count": 2,
     "metadata": {},
     "output_type": "execute_result"
    }
   ],
   "source": [
    "n=int(input(\"Enter the number of elements you want to enter\"))\n",
    "li=[]\n",
    "for i in range(n):\n",
    "    curr=int(input(\"Enter the elements you want to enter:- \"))\n",
    "    li.append(curr)\n",
    "li"
   ]
  },
  {
   "cell_type": "code",
   "execution_count": 5,
   "id": "3768cb6f",
   "metadata": {},
   "outputs": [
    {
     "name": "stdout",
     "output_type": "stream",
     "text": [
      "please enter the elements with spcae: 4 5 6 5 4 8 8 9 5 6 5 \n"
     ]
    },
    {
     "data": {
      "text/plain": [
       "['4', '5', '6', '5', '4', '8', '8', '9', '5', '6', '5', '']"
      ]
     },
     "execution_count": 5,
     "metadata": {},
     "output_type": "execute_result"
    }
   ],
   "source": [
    "#Now here want to take inputs in the list in thr form of space wise elements \n",
    "str=input(\"please enter the elements with spcae: \")\n",
    "str_split=str.split(\" \")\n",
    "str_split"
   ]
  },
  {
   "cell_type": "markdown",
   "id": "6c644ce2",
   "metadata": {},
   "source": [
    "Linear search"
   ]
  },
  {
   "cell_type": "code",
   "execution_count": 2,
   "id": "86d3a7ba",
   "metadata": {},
   "outputs": [
    {
     "name": "stdout",
     "output_type": "stream",
     "text": [
      "Enter the number of elements :- 4\n",
      "45 65 23 89\n",
      "Enter the element which needs to be checked:- 89\n",
      "3 The element is present and the index position is \n"
     ]
    }
   ],
   "source": [
    "n=int(input(\"Enter the number of elements :- \"))\n",
    "li=[int(x) for x in input().split()]\n",
    "ele=int(input(\"Enter the element which needs to be checked:- \")) #ele is the element to be searched\n",
    "isFound=False\n",
    "for i in range (len(li)):\n",
    "    if li[i]==ele:\n",
    "        print(i,\"The element is present and the index position is \")\n",
    "        isFound=True\n",
    "        break \n",
    "if isFound is False:\n",
    "    print(-1)"
   ]
  },
  {
   "cell_type": "markdown",
   "id": "acc6b1bb",
   "metadata": {},
   "source": [
    "Linear search through functions"
   ]
  },
  {
   "cell_type": "code",
   "execution_count": 3,
   "id": "9cd7676b",
   "metadata": {},
   "outputs": [
    {
     "name": "stdout",
     "output_type": "stream",
     "text": [
      "-1\n"
     ]
    }
   ],
   "source": [
    "def linear_search(li,ele):\n",
    "    for i in range (len(li)):\n",
    "        if li[i]==ele:\n",
    "            return i \n",
    "    return -1\n",
    "  #li is the list and ele is the element to be searched\n",
    "li=[1,2,3,4,5]\n",
    "index=linear_search(li,6)  #here we will search .. and we need to give the list in which we need to search and the element we want to search \n",
    "print(index)\n",
    "#if the element is present it will retrun index and if not will return -1\n"
   ]
  },
  {
   "cell_type": "markdown",
   "id": "67e6ba5c",
   "metadata": {},
   "source": [
    "Mutable"
   ]
  },
  {
   "cell_type": "code",
   "execution_count": 6,
   "id": "26d4ace1",
   "metadata": {},
   "outputs": [
    {
     "name": "stdout",
     "output_type": "stream",
     "text": [
      "3\n"
     ]
    },
    {
     "data": {
      "text/plain": [
       "140729785853808"
      ]
     },
     "execution_count": 6,
     "metadata": {},
     "output_type": "execute_result"
    }
   ],
   "source": [
    "x=3\n",
    "a=3\n",
    "print(x)\n",
    "id(x)\n"
   ]
  },
  {
   "cell_type": "code",
   "execution_count": 8,
   "id": "f52182f1",
   "metadata": {},
   "outputs": [
    {
     "data": {
      "text/plain": [
       "140729785853808"
      ]
     },
     "execution_count": 8,
     "metadata": {},
     "output_type": "execute_result"
    }
   ],
   "source": [
    "id (x) #now since here as x and a were having same value thus their reeence were same too "
   ]
  },
  {
   "cell_type": "code",
   "execution_count": 10,
   "id": "e6014981",
   "metadata": {},
   "outputs": [
    {
     "data": {
      "text/plain": [
       "140729785853840"
      ]
     },
     "execution_count": 10,
     "metadata": {},
     "output_type": "execute_result"
    }
   ],
   "source": [
    "a=4\n",
    "id(a)  #now here as we see ..the reference has changed  tus these are immutable\n"
   ]
  },
  {
   "cell_type": "markdown",
   "id": "4776d478",
   "metadata": {},
   "source": [
    "passing list through functions"
   ]
  },
  {
   "cell_type": "code",
   "execution_count": 12,
   "id": "dcbfbc58",
   "metadata": {},
   "outputs": [
    {
     "name": "stdout",
     "output_type": "stream",
     "text": [
      "[3, 2, 3, 4]\n"
     ]
    }
   ],
   "source": [
    "def increment(li):\n",
    "    li[0]=li[0]+2\n",
    "    \n",
    "li=[1,2,3,4]\n",
    "increment(li)\n",
    "print(li)"
   ]
  },
  {
   "cell_type": "markdown",
   "id": "f42c032d",
   "metadata": {},
   "source": [
    "Reversing a list\n",
    "list = [1,2,3,4,5] and after reversed it must be 6,5,4,3,2,1\n",
    "\n"
   ]
  },
  {
   "cell_type": "code",
   "execution_count": 1,
   "id": "53a8cb2b",
   "metadata": {},
   "outputs": [
    {
     "ename": "SyntaxError",
     "evalue": "invalid syntax (<ipython-input-1-5bce93423901>, line 3)",
     "output_type": "error",
     "traceback": [
      "\u001b[1;36m  File \u001b[1;32m\"<ipython-input-1-5bce93423901>\"\u001b[1;36m, line \u001b[1;32m3\u001b[0m\n\u001b[1;33m    for i in range (length//2)\u001b[0m\n\u001b[1;37m                              ^\u001b[0m\n\u001b[1;31mSyntaxError\u001b[0m\u001b[1;31m:\u001b[0m invalid syntax\n"
     ]
    }
   ],
   "source": [
    "def reverse_l(li):\n",
    "    length=len(li)\n",
    "    for i in range (length//2)\n",
    "    li[1],li[length-i-1]=li[length-i-1],"
   ]
  },
  {
   "cell_type": "code",
   "execution_count": 8,
   "id": "2223e6dc",
   "metadata": {},
   "outputs": [
    {
     "name": "stdout",
     "output_type": "stream",
     "text": [
      "Element has been found 1\n",
      "1\n"
     ]
    }
   ],
   "source": [
    "def binary_search(arr,ele):\n",
    "    start=0\n",
    "    end=len(arr)-1\n",
    "    \n",
    "    \n",
    "    while(start<=end):\n",
    "        mid=(start+end)//2\n",
    "        if (arr[mid]==ele):\n",
    "            print(\"Element has been found and its index is \",mid)\n",
    "            return mid\n",
    "        elif(arr[mid]<ele):  #since if the element will be greater than the mid thus it will be present in the right side \n",
    "            start=mid+1    #so the new start will obviously be the mid +1  just note that in this situation only the start position will be changes\n",
    "        else: #here in this if the elemnt is lower than the mid thus it will be obviously in the left part where the start will be as usual but the end will no be changed to the mid -1\n",
    "            end=mid-1\n",
    "            \n",
    "            \n",
    "        \n",
    "        \n",
    "    return -1\n",
    "\n",
    "    \n",
    "    \n",
    "    \n",
    "arr=[1,3,8,9,11,13,70,89,98]\n",
    "index=binary_search(arr,3)\n",
    "print(index)"
   ]
  },
  {
   "cell_type": "markdown",
   "id": "39c1c590",
   "metadata": {},
   "source": [
    "selection sort "
   ]
  },
  {
   "cell_type": "code",
   "execution_count": 14,
   "id": "566b1385",
   "metadata": {},
   "outputs": [
    {
     "name": "stdout",
     "output_type": "stream",
     "text": [
      "[1, 2, 3, 4, 6, 8, 9]\n"
     ]
    }
   ],
   "source": [
    "def selectionsort(arr):\n",
    "    length=len(arr)\n",
    "    for i in range(length -1):\n",
    "        minIndex=i\n",
    "        #calculating the index of minimum element for this iteration \n",
    "        for j in range(i+1,length):\n",
    "            if (arr[j]<arr[minIndex]):\n",
    "                minIndex=j\n",
    "        arr[i],arr[minIndex] =arr[minIndex],arr[i]\n",
    "arr=[4,6,8,9,2,3,1]\n",
    "selectionsort(arr)\n",
    "print(arr)\n",
    "    "
   ]
  },
  {
   "cell_type": "markdown",
   "id": "d303bd12",
   "metadata": {},
   "source": [
    "Bubble sort "
   ]
  },
  {
   "cell_type": "code",
   "execution_count": 5,
   "id": "57b06b38",
   "metadata": {},
   "outputs": [
    {
     "name": "stdout",
     "output_type": "stream",
     "text": [
      "[1, 3, 4, 6, 7, 52]\n"
     ]
    }
   ],
   "source": [
    "def bubbleSort(arr):  #i is for n-1 rounds \n",
    "    length=len(arr)      #j is for in each iteration u need to go till length -1-i position\n",
    "    for  i in range(length-1):  #since we need to go for n-1 rouds we are talking of the rounds... not the sb rounds\n",
    "        for j in range(length-1-i):\n",
    "            if(arr[j]>arr[j+1]):\n",
    "                arr[j],arr[j+1]=arr[j+1],arr[j]\n",
    "            \n",
    "\n",
    "\n",
    "arr=[6,4,52,1,7,3]\n",
    "bubbleSort(arr)\n",
    "print(arr)"
   ]
  },
  {
   "cell_type": "code",
   "execution_count": null,
   "id": "1e2b2efe",
   "metadata": {},
   "outputs": [],
   "source": []
  }
 ],
 "metadata": {
  "kernelspec": {
   "display_name": "Python 3",
   "language": "python",
   "name": "python3"
  },
  "language_info": {
   "codemirror_mode": {
    "name": "ipython",
    "version": 3
   },
   "file_extension": ".py",
   "mimetype": "text/x-python",
   "name": "python",
   "nbconvert_exporter": "python",
   "pygments_lexer": "ipython3",
   "version": "3.8.8"
  }
 },
 "nbformat": 4,
 "nbformat_minor": 5
}
